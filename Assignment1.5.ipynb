{
 "cells": [
  {
   "cell_type": "code",
   "execution_count": null,
   "metadata": {
    "collapsed": true
   },
   "outputs": [],
   "source": [
    "#Problem Statement\n",
    "\n",
    "#Write a program which accepts a sequence of comma-separated numbers from console\n",
    "#and generate a list."
   ]
  },
  {
   "cell_type": "code",
   "execution_count": 2,
   "metadata": {},
   "outputs": [
    {
     "name": "stdout",
     "output_type": "stream",
     "text": [
      "Write a sequence of comma-separated numbers: 12,23,34,567,754,23,12\n",
      "<class 'list'>\n",
      "[12, 23, 34, 567, 754, 23, 12]\n"
     ]
    }
   ],
   "source": [
    "num_seq=(input(\"Write a sequence of comma-separated numbers: \"))\n",
    "num_seq_split=num_seq.split(\",\")\n",
    "\n",
    "for i in range(len(num_seq_split)):\n",
    "    num_seq_split[i]=int(num_seq_split[i])\n",
    "\n",
    "print(type(num_seq_split))\n",
    "print(num_seq_split)\n"
   ]
  }
 ],
 "metadata": {
  "kernelspec": {
   "display_name": "Python 3",
   "language": "python",
   "name": "python3"
  },
  "language_info": {
   "codemirror_mode": {
    "name": "ipython",
    "version": 3
   },
   "file_extension": ".py",
   "mimetype": "text/x-python",
   "name": "python",
   "nbconvert_exporter": "python",
   "pygments_lexer": "ipython3",
   "version": "3.6.3"
  }
 },
 "nbformat": 4,
 "nbformat_minor": 2
}
